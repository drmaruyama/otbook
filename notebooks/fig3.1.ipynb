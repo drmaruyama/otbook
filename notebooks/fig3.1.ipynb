{
 "cells": [
  {
   "cell_type": "markdown",
   "metadata": {},
   "source": [
    "# 図 3.1 の生成"
   ]
  },
  {
   "cell_type": "code",
   "execution_count": null,
   "metadata": {},
   "outputs": [],
   "source": [
    "! pip install POT"
   ]
  },
  {
   "cell_type": "code",
   "execution_count": 1,
   "metadata": {},
   "outputs": [],
   "source": [
    "import numpy as np\n",
    "import ot\n",
    "import matplotlib.pyplot as plt\n",
    "import matplotlib"
   ]
  },
  {
   "cell_type": "code",
   "execution_count": 2,
   "metadata": {},
   "outputs": [],
   "source": [
    "# 描画用の色マップ\n",
    "start = [255, 255, 255]\n",
    "end = [0, 90, 255]\n",
    "cdict = {\n",
    "    'red': [\n",
    "        (0, 0, start[0]/255),\n",
    "        (1, end[0]/255, 1),\n",
    "    ],\n",
    "    'green' : [\n",
    "        (0, 0, start[1]/255),\n",
    "        (1, end[1]/255, 1),\n",
    "    ],\n",
    "    'blue' : [\n",
    "        (0, 0, start[2]/255),\n",
    "        (1, end[2]/255, 1),\n",
    "    ]\n",
    "}\n",
    "blue = matplotlib.colors.LinearSegmentedColormap('blue', cdict)"
   ]
  },
  {
   "cell_type": "code",
   "execution_count": 3,
   "metadata": {},
   "outputs": [],
   "source": [
    "# データの生成\n",
    "a = np.ones(4) / 4\n",
    "b = np.ones(4) / 4\n",
    "x = np.array([\n",
    "    [2.2, 2.1],\n",
    "    [3.2, 5.3],\n",
    "    [4.5, 4.4],\n",
    "    [3.1, 3.8],\n",
    "])\n",
    "y = np.array([\n",
    "    [4.8, 1.9],\n",
    "    [4.1, 3.3],\n",
    "    [2.0, 5.5],\n",
    "    [3.4, 2.5]\n",
    "])\n",
    "C = ((x.reshape(-1, 1, 2) - y.reshape(1, -1, 2)) ** 2).sum(2)"
   ]
  },
  {
   "cell_type": "code",
   "execution_count": 4,
   "metadata": {},
   "outputs": [
    {
     "data": {
      "image/png": "[encoded data removed]",
      "text/plain": [
       "<Figure size 432x576 with 6 Axes>"
      ]
     },
     "metadata": {},
     "output_type": "display_data"
    }
   ],
   "source": [
    "fig = plt.figure(figsize=(6, 8))\n",
    "\n",
    "ax = fig.add_subplot(3, 2, 1)\n",
    "P = ot.emd(a, b, C)\n",
    "ax.pcolor(P[::-1], cmap=blue, vmin=0, vmax=0.25)\n",
    "ax.set_xticks([])\n",
    "ax.set_yticks([])\n",
    "ax.text(2, 4.1, '$\\\\varepsilon$=0', fontsize=16, ha='center')\n",
    "\n",
    "for i, v in enumerate([0.01, 0.1, 1, 10, 100]):\n",
    "    ax = fig.add_subplot(3, 2, i+2)\n",
    "    P = ot.bregman.sinkhorn_epsilon_scaling(a, b, C, v)\n",
    "    ax.pcolor(P[::-1], cmap=blue, vmin=0, vmax=0.25)\n",
    "    ax.set_xticks([])\n",
    "    ax.set_yticks([])\n",
    "    ax.text(2, 4.1, '$\\\\varepsilon$={}'.format(v), fontsize=16, ha='center')"
   ]
  },
  {
   "cell_type": "code",
   "execution_count": null,
   "metadata": {},
   "outputs": [],
   "source": []
  }
 ],
 "metadata": {
  "kernelspec": {
   "display_name": "Python 3.8.3 ('base')",
   "language": "python",
   "name": "python3"
  },
  "language_info": {
   "codemirror_mode": {
    "name": "ipython",
    "version": 3
   },
   "file_extension": ".py",
   "mimetype": "text/x-python",
   "name": "python",
   "nbconvert_exporter": "python",
   "pygments_lexer": "ipython3",
   "version": "3.8.3"
  },
  "orig_nbformat": 4,
  "vscode": {
   "interpreter": {
    "hash": "44a2b068c0f563b0ccee5ab3b9cf7ca27efea6d57d435efed0db203d351dddef"
   }
  }
 },
 "nbformat": 4,
 "nbformat_minor": 2
}
