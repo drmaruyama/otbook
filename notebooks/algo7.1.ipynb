{
 "cells": [
  {
   "cell_type": "markdown",
   "metadata": {},
   "source": [
    "# アルゴリズム 7.1"
   ]
  },
  {
   "cell_type": "code",
   "execution_count": null,
   "metadata": {},
   "outputs": [],
   "source": [
    "! pip install POT"
   ]
  },
  {
   "cell_type": "code",
   "execution_count": 1,
   "metadata": {},
   "outputs": [],
   "source": [
    "import numpy as np\n",
    "import matplotlib.pyplot as plt\n",
    "import ot"
   ]
  },
  {
   "cell_type": "code",
   "execution_count": 2,
   "metadata": {},
   "outputs": [
    {
     "data": {
      "text/plain": [
       "<matplotlib.collections.PathCollection at 0x7f9e271a9b80>"
      ]
     },
     "execution_count": 2,
     "metadata": {},
     "output_type": "execute_result"
    },
    {
     "data": {
      "image/png": "[encoded data removed]",
      "text/plain": [
       "<Figure size 432x288 with 1 Axes>"
      ]
     },
     "metadata": {
      "needs_background": "light"
     },
     "output_type": "display_data"
    }
   ],
   "source": [
    "# データ生成\n",
    "np.random.seed(0)\n",
    "n = 100\n",
    "x = np.random.randn(n, 2)\n",
    "y = np.random.randn(n, 2)\n",
    "a = np.ones(n) / n\n",
    "b = np.ones(n) / n\n",
    "plt.scatter(x[:, 0], x[:, 1])\n",
    "plt.scatter(y[:, 0], y[:, 1])"
   ]
  },
  {
   "cell_type": "code",
   "execution_count": 3,
   "metadata": {},
   "outputs": [
    {
     "name": "stdout",
     "output_type": "stream",
     "text": [
      "0 0.22545794341828113\n",
      "1 0.22701966725048606\n",
      "10 0.8318351456244244\n"
     ]
    }
   ],
   "source": [
    "# 通常の最適輸送（外れ値に鋭敏）\n",
    "for p in [0, 1, 10]:\n",
    "    x[0, 0] = p # 外れ値\n",
    "    C = ((x.reshape(-1, 1, 2) - y.reshape(1, -1, 2)) ** 2).sum(2)\n",
    "    P = ot.emd(a, b, C)\n",
    "    W = (C * P).sum()\n",
    "    print(p, W)"
   ]
  },
  {
   "cell_type": "code",
   "execution_count": 4,
   "metadata": {},
   "outputs": [
    {
     "name": "stdout",
     "output_type": "stream",
     "text": [
      "0 0.26815043097940594\n",
      "1 0.2693680277800869\n",
      "10 0.27817950004349623\n"
     ]
    }
   ],
   "source": [
    "# 不均衡最適輸送（外れ値に頑健）\n",
    "for p in [0, 1, 10]:\n",
    "    x[0, 0] = p # 外れ値\n",
    "    C = ((x.reshape(-1, 1, 2) - y.reshape(1, -1, 2)) ** 2).sum(2)\n",
    "\n",
    "    # アルゴリズム 7.1\n",
    "    eps = 0.1\n",
    "    lam = 1\n",
    "    K = np.exp(- C / eps) # ギブスカーネルの計算\n",
    "\n",
    "    v = np.ones(n) # すべて 1 で初期化\n",
    "    for i in range(100):\n",
    "        u = np.maximum(np.exp(-lam/eps) * (K @ v), np.minimum(a, np.exp(lam/eps) * (K @ v))) / (K @ v)\n",
    "        v = np.maximum(np.exp(-lam/eps) * (K.T @ u), np.minimum(a, np.exp(lam/eps) * (K.T @ u))) / (K.T @ u)\n",
    "\n",
    "    P = u.reshape(n, 1) * K * v.reshape(1, n) # 主解\n",
    "    W = (C * P).sum() + lam * np.abs(P.sum(1) - a).sum() + lam * np.abs(P.sum(0) - b).sum()\n",
    "    print(p, W)\n"
   ]
  },
  {
   "cell_type": "code",
   "execution_count": null,
   "metadata": {},
   "outputs": [],
   "source": []
  }
 ],
 "metadata": {
  "kernelspec": {
   "display_name": "Python 3.8.3 ('base')",
   "language": "python",
   "name": "python3"
  },
  "language_info": {
   "codemirror_mode": {
    "name": "ipython",
    "version": 3
   },
   "file_extension": ".py",
   "mimetype": "text/x-python",
   "name": "python",
   "nbconvert_exporter": "python",
   "pygments_lexer": "ipython3",
   "version": "3.8.3"
  },
  "orig_nbformat": 4,
  "vscode": {
   "interpreter": {
    "hash": "44a2b068c0f563b0ccee5ab3b9cf7ca27efea6d57d435efed0db203d351dddef"
   }
  }
 },
 "nbformat": 4,
 "nbformat_minor": 2
}
