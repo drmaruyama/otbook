{
 "cells": [
  {
   "cell_type": "markdown",
   "metadata": {},
   "source": [
    "# 図 2.9 の生成"
   ]
  },
  {
   "cell_type": "code",
   "execution_count": null,
   "metadata": {},
   "outputs": [],
   "source": [
    "! pip install POT"
   ]
  },
  {
   "cell_type": "code",
   "execution_count": 1,
   "metadata": {},
   "outputs": [],
   "source": [
    "import numpy as np\n",
    "import matplotlib.pyplot as plt\n",
    "import ot\n",
    "import scipy.optimize"
   ]
  },
  {
   "cell_type": "code",
   "execution_count": 2,
   "metadata": {},
   "outputs": [],
   "source": [
    "# データ生成\n",
    "np.random.seed(0)\n",
    "a = np.random.randn(10, 2)\n",
    "b = np.random.randn(10, 2)"
   ]
  },
  {
   "cell_type": "code",
   "execution_count": 3,
   "metadata": {},
   "outputs": [],
   "source": [
    "C = np.sqrt(((a.reshape(-1, 1, 2) - b.reshape(1, -1, 2)) ** 2).sum(2)) # コスト行列"
   ]
  },
  {
   "cell_type": "code",
   "execution_count": 4,
   "metadata": {},
   "outputs": [
    {
     "data": {
      "text/plain": [
       "array([[0. , 0. , 0. , 0. , 0. , 0. , 0. , 0. , 0.1, 0. ],\n",
       "       [0. , 0. , 0. , 0. , 0.1, 0. , 0. , 0. , 0. , 0. ],\n",
       "       [0. , 0. , 0.1, 0. , 0. , 0. , 0. , 0. , 0. , 0. ],\n",
       "       [0. , 0. , 0. , 0. , 0. , 0. , 0. , 0. , 0. , 0.1],\n",
       "       [0. , 0. , 0. , 0. , 0. , 0. , 0. , 0.1, 0. , 0. ],\n",
       "       [0.1, 0. , 0. , 0. , 0. , 0. , 0. , 0. , 0. , 0. ],\n",
       "       [0. , 0. , 0. , 0.1, 0. , 0. , 0. , 0. , 0. , 0. ],\n",
       "       [0. , 0. , 0. , 0. , 0. , 0.1, 0. , 0. , 0. , 0. ],\n",
       "       [0. , 0.1, 0. , 0. , 0. , 0. , 0. , 0. , 0. , 0. ],\n",
       "       [0. , 0. , 0. , 0. , 0. , 0. , 0.1, 0. , 0. , 0. ]])"
      ]
     },
     "execution_count": 4,
     "metadata": {},
     "output_type": "execute_result"
    }
   ],
   "source": [
    "P = ot.emd(np.ones(10) / 10, np.ones(10) / 10, C) # 最適輸送行列の計算\n",
    "P # （参考：系 2.20）"
   ]
  },
  {
   "cell_type": "code",
   "execution_count": 5,
   "metadata": {},
   "outputs": [
    {
     "data": {
      "text/plain": [
       "1.059520913944732"
      ]
     },
     "execution_count": 5,
     "metadata": {},
     "output_type": "execute_result"
    }
   ],
   "source": [
    "(C * P).sum() # 最適輸送コスト"
   ]
  },
  {
   "cell_type": "code",
   "execution_count": 6,
   "metadata": {},
   "outputs": [],
   "source": [
    "# 問題 2.6 の係数の生成\n",
    "c = np.concatenate([np.ones(10) / 10, np.ones(10) / 10])\n",
    "A_ub = np.zeros((10 * 10, 20))\n",
    "b_ub = np.zeros(10 * 10)\n",
    "for i in range(10):\n",
    "    for j in range(10):\n",
    "        A_ub[i * 10 + j, i] = 1\n",
    "        A_ub[i * 10 + j, 10 + j] = 1\n",
    "        b_ub[i * 10 + j] = C[i, j]"
   ]
  },
  {
   "cell_type": "code",
   "execution_count": 7,
   "metadata": {},
   "outputs": [
    {
     "data": {
      "text/plain": [
       "     con: array([], dtype=float64)\n",
       "     fun: -1.0595209134421055\n",
       " message: 'Optimization terminated successfully.'\n",
       "     nit: 8\n",
       "   slack: array([ 1.35356266e+00,  6.89483081e-01,  8.57181592e-01,  7.41028278e-01,\n",
       "        1.33095092e-01,  7.52362001e-01,  1.21830769e+00,  1.01709087e+00,\n",
       "        5.76963921e-10,  7.43625223e-01,  9.12083631e-01,  2.23167519e+00,\n",
       "        2.86021234e+00,  1.53725763e+00,  5.17083376e-10,  1.19084496e+00,\n",
       "        2.28131684e+00,  1.37297272e+00,  1.15954392e-01,  1.37830767e+00,\n",
       "        2.18194200e+00,  7.06812403e-01,  4.00310118e-10,  1.35193007e+00,\n",
       "        1.94965639e+00,  1.76825274e+00,  1.02789016e+00,  1.82081293e+00,\n",
       "        1.74839401e+00,  1.27526363e+00,  7.97088876e-01,  6.06119444e-03,\n",
       "        9.63120348e-01,  3.79066744e-03,  9.35072830e-01,  2.72054840e-01,\n",
       "        4.21250412e-01,  3.98700843e-01,  5.92489950e-01, -1.53108637e-11,\n",
       "        2.46910982e-01,  1.49654507e+00,  2.70910286e+00,  2.97221247e-01,\n",
       "        1.74390404e+00,  1.59331970e-01,  9.27271210e-01,  4.81371998e-10,\n",
       "        1.34332115e+00,  3.92477351e-03,  8.15600920e-10,  1.70455666e+00,\n",
       "        2.69510624e+00,  7.27068698e-01,  5.85530377e-01,  3.76819059e-01,\n",
       "        1.39867597e+00,  4.36676676e-01,  3.09049320e-01,  4.73201596e-01,\n",
       "        6.81295107e-01,  4.01218131e-01,  1.41247926e+00,  3.94346333e-10,\n",
       "        8.87936461e-01,  9.69947662e-02,  6.22087980e-01,  2.96352875e-01,\n",
       "        5.10378793e-01,  3.60159282e-04,  6.07541887e-01,  9.55147479e-01,\n",
       "        2.05509377e+00,  1.45274237e-01,  1.17711665e+00,  4.93118602e-10,\n",
       "        8.89225658e-01,  2.67061699e-01,  7.72805521e-01,  9.16266148e-02,\n",
       "        1.10327364e+00,  6.31351416e-10,  3.42391839e-01,  3.10564114e-01,\n",
       "        6.51137527e-01,  5.40776481e-01,  5.62329261e-01,  7.05237330e-01,\n",
       "        4.05482172e-01,  3.01386438e-01,  9.66425709e-01,  4.96966294e-01,\n",
       "        1.68053806e+00,  3.42514110e-01,  2.36221198e+00,  1.08436864e+00,\n",
       "        7.31426031e-10,  7.97432738e-01,  1.98708516e+00,  7.10112788e-02])\n",
       "  status: 0\n",
       " success: True\n",
       "       x: array([0.76069839, 0.74972147, 0.31964344, 0.58707243, 0.00466911,\n",
       "       0.60315233, 0.4649375 , 0.19612611, 0.82369178, 0.06179816,\n",
       "       2.2102153 , 0.00385061, 0.30435567, 0.31417619, 0.20013487,\n",
       "       0.09619484, 1.58486621, 0.34820145, 0.20286929, 0.75883398])"
      ]
     },
     "execution_count": 7,
     "metadata": {},
     "output_type": "execute_result"
    }
   ],
   "source": [
    "res = scipy.optimize.linprog(-c, A_ub, b_ub) # 線形計画ソルバを用いて解く。`scipy.optimize.linprog` は最小化を行なうので目的関数に負号を付けて最大化を表現する。\n",
    "res # fun: 最適値。これが最適輸送コストと一致 = 強双対定理"
   ]
  },
  {
   "cell_type": "code",
   "execution_count": 8,
   "metadata": {},
   "outputs": [],
   "source": [
    "# 色付け用の関数\n",
    "def convert(xs, up, down):\n",
    "    xs = (xs - xs.min()) / (xs.max() - xs.min())\n",
    "    return [\n",
    "        tuple([min(max((up[i] * x + down[i] * (1 - x)) / 255, 0), 1) for i in range(3)])\n",
    "        for x in xs\n",
    "    ]"
   ]
  },
  {
   "cell_type": "code",
   "execution_count": 9,
   "metadata": {},
   "outputs": [
    {
     "data": {
      "text/plain": [
       "[]"
      ]
     },
     "execution_count": 9,
     "metadata": {},
     "output_type": "execute_result"
    },
    {
     "data": {
      "image/png": "[encoded data removed]",
      "text/plain": [
       "<Figure size 576x288 with 2 Axes>"
      ]
     },
     "metadata": {},
     "output_type": "display_data"
    }
   ],
   "source": [
    "fig = plt.figure(figsize=(8, 4))\n",
    "\n",
    "ax = fig.add_subplot(1, 2, 1)\n",
    "ax.scatter(a[:, 0], a[:, 1], c='#ff4b00')\n",
    "ax.scatter(b[:, 0], b[:, 1], c='#005aff')\n",
    "ax.set_xticks([])\n",
    "ax.set_yticks([])\n",
    "\n",
    "ax = fig.add_subplot(1, 2, 2)\n",
    "ax.scatter(a[:, 0], a[:, 1], c=convert(res.x[:10], (255, 75, 0), (255, 202, 191)))\n",
    "ax.scatter(b[:, 0], b[:, 1], c=convert(res.x[10:], (0, 90, 255), (191, 228, 255)))\n",
    "ax.set_xticks([])\n",
    "ax.set_yticks([])"
   ]
  },
  {
   "cell_type": "code",
   "execution_count": null,
   "metadata": {},
   "outputs": [],
   "source": []
  }
 ],
 "metadata": {
  "kernelspec": {
   "display_name": "Python 3.8.3 ('base')",
   "language": "python",
   "name": "python3"
  },
  "language_info": {
   "codemirror_mode": {
    "name": "ipython",
    "version": 3
   },
   "file_extension": ".py",
   "mimetype": "text/x-python",
   "name": "python",
   "nbconvert_exporter": "python",
   "pygments_lexer": "ipython3",
   "version": "3.8.3"
  },
  "orig_nbformat": 4,
  "vscode": {
   "interpreter": {
    "hash": "44a2b068c0f563b0ccee5ab3b9cf7ca27efea6d57d435efed0db203d351dddef"
   }
  }
 },
 "nbformat": 4,
 "nbformat_minor": 2
}
