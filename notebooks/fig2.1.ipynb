{
 "cells": [
  {
   "cell_type": "markdown",
   "metadata": {},
   "source": [
    "# 図 2.1 の生成"
   ]
  },
  {
   "cell_type": "code",
   "execution_count": null,
   "metadata": {},
   "outputs": [],
   "source": [
    "! pip install POT"
   ]
  },
  {
   "cell_type": "code",
   "execution_count": 1,
   "metadata": {},
   "outputs": [],
   "source": [
    "import numpy as np\n",
    "import matplotlib.pyplot as plt\n",
    "import ot"
   ]
  },
  {
   "cell_type": "code",
   "execution_count": 2,
   "metadata": {},
   "outputs": [],
   "source": [
    "# データの生成\n",
    "x = np.array([\n",
    "    [2.2, 2.1],\n",
    "    [3.2, 5.3],\n",
    "    [4.5, 4.4],\n",
    "    [3.1, 3.8],\n",
    "])\n",
    "y = np.array([\n",
    "    [4.8, 1.9],\n",
    "    [4.1, 3.3],\n",
    "    [2.0, 5.5],\n",
    "    [3.4, 2.5]\n",
    "])"
   ]
  },
  {
   "cell_type": "code",
   "execution_count": 3,
   "metadata": {},
   "outputs": [],
   "source": [
    "C = ((x.reshape(-1, 1, 2) - y.reshape(1, -1, 2)) ** 2).sum(2) # コスト行列の計算"
   ]
  },
  {
   "cell_type": "code",
   "execution_count": 4,
   "metadata": {},
   "outputs": [
    {
     "data": {
      "text/plain": [
       "array([[0.  , 0.  , 0.  , 0.25],\n",
       "       [0.  , 0.  , 0.25, 0.  ],\n",
       "       [0.25, 0.  , 0.  , 0.  ],\n",
       "       [0.  , 0.25, 0.  , 0.  ]])"
      ]
     },
     "execution_count": 4,
     "metadata": {},
     "output_type": "execute_result"
    }
   ],
   "source": [
    "P = ot.emd(np.ones(4) / 4, np.ones(4) / 4, C) # 最適輸送の計算\n",
    "P"
   ]
  },
  {
   "cell_type": "code",
   "execution_count": 5,
   "metadata": {},
   "outputs": [
    {
     "data": {
      "text/plain": [
       "[]"
      ]
     },
     "execution_count": 5,
     "metadata": {},
     "output_type": "execute_result"
    },
    {
     "data": {
      "image/png": "[encoded data removed]",
      "text/plain": [
       "<Figure size 432x288 with 1 Axes>"
      ]
     },
     "metadata": {},
     "output_type": "display_data"
    }
   ],
   "source": [
    "fig, ax = plt.subplots()\n",
    "\n",
    "ax.scatter(x[:, 0], x[:, 1], c='#ff4b00')\n",
    "ax.scatter(y[:, 0], y[:, 1], c='#005aff')\n",
    "\n",
    "p = [\n",
    "    3, 2, 0, 1\n",
    "]\n",
    "\n",
    "for i in range(4):\n",
    "    ax.text(x[i, 0] - 0.3, x[i, 1] + 0.2, '$x^{(' + str(i+1) + ')}$', fontsize=16, c='#ff4b00')\n",
    "\n",
    "for i in range(4):\n",
    "    ax.text(y[i, 0] - 0.1, y[i, 1] - 0.6, '$y^{(' + str(i+1) + ')}$', fontsize=16, c='#005aff')\n",
    "    \n",
    "for i in range(4):\n",
    "    ax.annotate('', xy=(y[p[i], 0], y[p[i], 1]), xytext=(x[i, 0], x[i, 1]), arrowprops={'arrowstyle': '->', 'shrinkA': 5, 'shrinkB': 5, 'mutation_scale': 20})\n",
    "\n",
    "    \n",
    "ax.set_xlim(1, 6)\n",
    "ax.set_ylim(1, 7)\n",
    "\n",
    "ax.set_xticks([])\n",
    "ax.set_yticks([])"
   ]
  },
  {
   "cell_type": "code",
   "execution_count": 6,
   "metadata": {},
   "outputs": [
    {
     "data": {
      "text/plain": [
       "2.6675000000000004"
      ]
     },
     "execution_count": 6,
     "metadata": {},
     "output_type": "execute_result"
    }
   ],
   "source": [
    "(C * P).sum() # 最適輸送コスト"
   ]
  },
  {
   "cell_type": "code",
   "execution_count": null,
   "metadata": {},
   "outputs": [],
   "source": []
  }
 ],
 "metadata": {
  "kernelspec": {
   "display_name": "Python 3.8.3 ('base')",
   "language": "python",
   "name": "python3"
  },
  "language_info": {
   "codemirror_mode": {
    "name": "ipython",
    "version": 3
   },
   "file_extension": ".py",
   "mimetype": "text/x-python",
   "name": "python",
   "nbconvert_exporter": "python",
   "pygments_lexer": "ipython3",
   "version": "3.8.3"
  },
  "orig_nbformat": 4,
  "vscode": {
   "interpreter": {
    "hash": "44a2b068c0f563b0ccee5ab3b9cf7ca27efea6d57d435efed0db203d351dddef"
   }
  }
 },
 "nbformat": 4,
 "nbformat_minor": 2
}
